{
 "cells": [
  {
   "cell_type": "markdown",
   "metadata": {},
   "source": [
    "# ASSIGNMENT: Cartoon Face Mask\n",
    "## This assignment tests your ability to apply face recognition, image masks, image thresholding, video capturing and saving video feed into a video file concepts."
   ]
  },
  {
   "cell_type": "markdown",
   "metadata": {},
   "source": [
    "## TASK: Cartoonify faces in video feed from live webcam\n",
    "\n",
    "### Steps\n",
    "- 1. **Capture video** feed from webcam\n",
    "- 2. **Recognize faces** in the video\n",
    "- 3. **Replace/Mask the face** region with your favorite cartoon character\n",
    "- 4. **Save the video** feed into a video file\n",
    "- 5. Submit the following files\n",
    "    - Notebook (.ipynb)\n",
    "    - Video (.avi/.mp4)"
   ]
  },
  {
   "cell_type": "code",
   "execution_count": 1,
   "metadata": {},
   "outputs": [
    {
     "name": "stdout",
     "output_type": "stream",
     "text": [
      "Cartoon mask loaded successfully!\n"
     ]
    }
   ],
   "source": [
    "import cv2\n",
    "import numpy as np\n",
    "\n",
    "# Load your cartoon mask image\n",
    "cartoon_mask_path = \"cartoon_face.png\"  # Replace with the path to your cartoon image\n",
    "cartoon_mask = cv2.imread(cartoon_mask_path, cv2.IMREAD_UNCHANGED)\n",
    "\n",
    "if cartoon_mask is None:\n",
    "    print(\"Error: Cartoon mask image not found. Please check the path!\")\n",
    "else:\n",
    "    print(\"Cartoon mask loaded successfully!\")\n",
    "\n",
    "# Function to resize the cartoon mask to fit the detected face\n",
    "def resize_cartoon_mask(mask, face_width, face_height):\n",
    "    return cv2.resize(mask, (face_width, face_height))\n",
    "\n",
    "# Example usage\n",
    "face_width, face_height = 100, 100  # Example dimensions of a detected face\n",
    "resized_mask = resize_cartoon_mask(cartoon_mask, face_width, face_height)\n",
    "\n",
    "# Display the resized cartoon mask for verification\n",
    "cv2.imshow(\"Resized Cartoon Mask\", resized_mask)\n",
    "cv2.waitKey(0)\n",
    "cv2.destroyAllWindows()\n"
   ]
  },
  {
   "cell_type": "code",
   "execution_count": 2,
   "metadata": {},
   "outputs": [
    {
     "name": "stdout",
     "output_type": "stream",
     "text": [
      "Press 'q' to quit.\n"
     ]
    }
   ],
   "source": [
    "import cv2\n",
    "import numpy as np\n",
    "\n",
    "# Load the Haar cascades for face detection\n",
    "cascPathface = cv2.data.haarcascades + \"haarcascade_frontalface_alt2.xml\"\n",
    "faceCascade = cv2.CascadeClassifier(cascPathface)\n",
    "\n",
    "# Load the cartoon mask image\n",
    "cartoon_mask_path = \"cartoon_face.png\"  # Replace with your cartoon image path\n",
    "cartoon_mask = cv2.imread(cartoon_mask_path, cv2.IMREAD_UNCHANGED)\n",
    "\n",
    "if cartoon_mask is None:\n",
    "    print(\"Error: Cartoon mask image not found. Please check the path!\")\n",
    "    exit()\n",
    "\n",
    "# Function to resize the cartoon mask to match the detected face size\n",
    "def resize_cartoon_mask(mask, face_width, face_height):\n",
    "    return cv2.resize(mask, (face_width, face_height))\n",
    "\n",
    "# Function to overlay the cartoon mask onto the face\n",
    "def apply_cartoon_mask(frame, mask, x, y, w, h):\n",
    "    resized_mask = resize_cartoon_mask(mask, w, h)\n",
    "    \n",
    "    # Extract the alpha channel for transparency handling\n",
    "    alpha_mask = resized_mask[:, :, 3] / 255.0\n",
    "    alpha_frame = 1.0 - alpha_mask\n",
    "\n",
    "    # Overlay the cartoon mask onto the frame\n",
    "    for c in range(0, 3):  # Iterate over RGB channels\n",
    "        frame[y:y+h, x:x+w, c] = (\n",
    "            alpha_mask * resized_mask[:, :, c] +\n",
    "            alpha_frame * frame[y:y+h, x:x+w, c]\n",
    "        )\n",
    "\n",
    "# Open webcam feed\n",
    "video_capture = cv2.VideoCapture(0)\n",
    "\n",
    "print(\"Press 'q' to quit.\")\n",
    "while True:\n",
    "    ret, frame = video_capture.read()\n",
    "    if not ret:\n",
    "        break\n",
    "\n",
    "    # Convert the frame to grayscale for face detection\n",
    "    gray = cv2.cvtColor(frame, cv2.COLOR_BGR2GRAY)\n",
    "    faces = faceCascade.detectMultiScale(gray, scaleFactor=1.1, minNeighbors=5, minSize=(60, 60))\n",
    "\n",
    "    # Apply the cartoon mask to each detected face\n",
    "    for (x, y, w, h) in faces:\n",
    "        try:\n",
    "            apply_cartoon_mask(frame, cartoon_mask, x, y, w, h)\n",
    "        except Exception as e:\n",
    "            print(f\"Error applying mask: {e}\")\n",
    "\n",
    "    # Display the resulting frame\n",
    "    cv2.imshow(\"Cartoonified Video Feed\", frame)\n",
    "\n",
    "    if cv2.waitKey(1) & 0xFF == ord('q'):\n",
    "        break\n",
    "\n",
    "# Release the webcam and close windows\n",
    "video_capture.release()\n",
    "cv2.destroyAllWindows()\n"
   ]
  },
  {
   "cell_type": "code",
   "execution_count": null,
   "metadata": {},
   "outputs": [],
   "source": []
  }
 ],
 "metadata": {
  "kernelspec": {
   "display_name": "Python 3 (ipykernel)",
   "language": "python",
   "name": "python3"
  },
  "language_info": {
   "codemirror_mode": {
    "name": "ipython",
    "version": 3
   },
   "file_extension": ".py",
   "mimetype": "text/x-python",
   "name": "python",
   "nbconvert_exporter": "python",
   "pygments_lexer": "ipython3",
   "version": "3.12.0"
  }
 },
 "nbformat": 4,
 "nbformat_minor": 4
}
