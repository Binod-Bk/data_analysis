{
 "cells": [
  {
   "cell_type": "markdown",
   "metadata": {},
   "source": [
    "# Create an Audiobook from a PDF\n",
    "## This task tests your ability to apply Text to Speech conversion and Extraction of Text from PDF files in the creation of an audiobook from a PDF file"
   ]
  },
  {
   "cell_type": "markdown",
   "metadata": {},
   "source": [
    "### Steps\n",
    "- Extract text from PDF file\n",
    "- Clean the text\n",
    "- Convert the text into speech\n",
    "- Save the speech\n",
    "- Play the speech"
   ]
  },
  {
   "cell_type": "markdown",
   "metadata": {},
   "source": [
    "## 1. Extract text from PDF\n",
    "- Use PyPDF2"
   ]
  },
  {
   "cell_type": "markdown",
   "metadata": {},
   "source": [
    "### Install the library"
   ]
  },
  {
   "cell_type": "code",
   "execution_count": 1,
   "metadata": {},
   "outputs": [
    {
     "name": "stdout",
     "output_type": "stream",
     "text": [
      "Requirement already satisfied: PyPDF2 in c:\\users\\binod\\pycharmprojects\\applied_mathematics\\venv\\lib\\site-packages (3.0.1)\n"
     ]
    }
   ],
   "source": [
    "!pip install PyPDF2\n"
   ]
  },
  {
   "cell_type": "markdown",
   "metadata": {},
   "source": [
    "### Import the library"
   ]
  },
  {
   "cell_type": "code",
   "execution_count": 2,
   "metadata": {},
   "outputs": [],
   "source": [
    "\n",
    "import PyPDF2\n",
    "\n",
    "import pyttsx3  \n"
   ]
  },
  {
   "cell_type": "markdown",
   "metadata": {},
   "source": [
    "### Extract the text"
   ]
  },
  {
   "cell_type": "code",
   "execution_count": 3,
   "metadata": {},
   "outputs": [],
   "source": [
    "import PyPDF2\n",
    "\n",
    "# Path to your PDF file\n",
    "pdf_path = \"reading_document.pdf\"\n",
    "\n",
    "# Open the PDF file in binary mode\n",
    "with open(pdf_path, 'rb') as file:\n",
    "    # Create a PDF reader object\n",
    "    reader = PyPDF2.PdfReader(file)\n",
    "    \n",
    "    # Extract text from each page and combine\n",
    "    extracted_text = \"\"\n",
    "    for page in reader.pages:\n",
    "        extracted_text += page.extract_text()\n",
    "\n"
   ]
  },
  {
   "cell_type": "markdown",
   "metadata": {},
   "source": [
    "### Print the extracted text"
   ]
  },
  {
   "cell_type": "code",
   "execution_count": 4,
   "metadata": {},
   "outputs": [
    {
     "name": "stdout",
     "output_type": "stream",
     "text": [
      "It was a time of great and exalting excitement. The country was up in arms, the war was on, in  \n",
      "every breast burned the holy fire of patriotism; the drums were beating, the bands playing, the toy  \n",
      "pistols popping, the bunched firecrackers hissing and sputtering; on every hand and far down the  \n",
      "receding and fading spreads of roofs and balconies a fluttering wilderness of flags flashed in the  \n",
      "sun; daily the young volunteers marched down the wide avenue  gay and fine in their new  \n",
      "uniforms, the proud fathers and mothers and sisters and sweethearts cheering them with voices  \n",
      "choked with happy emotion as they swung by; nightly the packed mass meetings listened,  \n",
      "panting, to patriot oratory which stirred the de epest deeps of their hearts and which they  \n",
      "interrupted at briefest intervals with cyclones of applause, the tears running down their cheeks the  \n",
      "while; in the churches the pastors preached devotion to flag and country and invoked the God of  \n",
      "Battles, beseech ing His aid in our good cause in outpouring of fervid eloquence which moved  \n",
      "every listener.  \n",
      "It was indeed a glad and gracious time, and the half dozen rash spirits that ventured to  \n",
      "disapprove of the war and cast a doubt upon its righteousness straightway g ot such a stern and  \n",
      "angry warning that for their personal safety's sake they quickly shrank out of sight and offended  \n",
      "no more in that way.  \n",
      " \n"
     ]
    }
   ],
   "source": [
    "\n",
    "# Print the extracted text (optional, to verify)\n",
    "print(extracted_text)"
   ]
  },
  {
   "cell_type": "markdown",
   "metadata": {},
   "source": [
    "## 2. Convert the Text into Speech\n",
    "- Use **pyttsx3** OR **gTTS**"
   ]
  },
  {
   "cell_type": "markdown",
   "metadata": {},
   "source": [
    "### Install the library"
   ]
  },
  {
   "cell_type": "code",
   "execution_count": 5,
   "metadata": {},
   "outputs": [
    {
     "name": "stdout",
     "output_type": "stream",
     "text": [
      "Requirement already satisfied: pyttsx3 in c:\\users\\binod\\pycharmprojects\\applied_mathematics\\venv\\lib\\site-packages (2.98)\n",
      "Requirement already satisfied: comtypes in c:\\users\\binod\\pycharmprojects\\applied_mathematics\\venv\\lib\\site-packages (from pyttsx3) (1.4.8)\n",
      "Requirement already satisfied: pypiwin32 in c:\\users\\binod\\pycharmprojects\\applied_mathematics\\venv\\lib\\site-packages (from pyttsx3) (223)\n",
      "Requirement already satisfied: pywin32 in c:\\users\\binod\\pycharmprojects\\applied_mathematics\\venv\\lib\\site-packages (from pyttsx3) (306)\n"
     ]
    }
   ],
   "source": [
    "!pip install pyttsx3"
   ]
  },
  {
   "cell_type": "markdown",
   "metadata": {},
   "source": [
    "### Import the library"
   ]
  },
  {
   "cell_type": "code",
   "execution_count": 6,
   "metadata": {},
   "outputs": [],
   "source": [
    "import pyttsx3"
   ]
  },
  {
   "cell_type": "markdown",
   "metadata": {},
   "source": [
    "### Initialize a Speaker object"
   ]
  },
  {
   "cell_type": "code",
   "execution_count": 7,
   "metadata": {},
   "outputs": [
    {
     "name": "stdout",
     "output_type": "stream",
     "text": [
      "Speaker object initialized using pyttsx3.\n"
     ]
    }
   ],
   "source": [
    "# Initialize the text-to-speech engine\n",
    "engine = pyttsx3.init()\n",
    "\n",
    "# Optional: Set properties for the voice\n",
    "engine.setProperty('rate', 150)  # Speed of speech (words per minute)\n",
    "engine.setProperty('volume', 0.9)  # Volume level (0.0 to 1.0)\n",
    "\n",
    "print(\"Speaker object initialized using pyttsx3.\")\n"
   ]
  },
  {
   "cell_type": "markdown",
   "metadata": {},
   "source": [
    "### Convert the text"
   ]
  },
  {
   "cell_type": "code",
   "execution_count": 8,
   "metadata": {},
   "outputs": [
    {
     "name": "stdout",
     "output_type": "stream",
     "text": [
      "Text converted to speech using pyttsx3.\n"
     ]
    }
   ],
   "source": [
    "# Convert the text to speech\n",
    "engine.say(extracted_text)  # Replace 'extracted_text' with your text variable\n",
    "\n",
    "# Run the speech engine to speak the text\n",
    "engine.runAndWait()\n",
    "\n",
    "print(\"Text converted to speech using pyttsx3.\")\n"
   ]
  },
  {
   "cell_type": "markdown",
   "metadata": {},
   "source": [
    "### Save the audio"
   ]
  },
  {
   "cell_type": "code",
   "execution_count": 9,
   "metadata": {},
   "outputs": [
    {
     "name": "stdout",
     "output_type": "stream",
     "text": [
      "Audio saved as 'audiobook_output.wav' using pyttsx3.\n"
     ]
    }
   ],
   "source": [
    "# Save the audio to a file\n",
    "output_file = \"audiobook_output.wav\"  # Specify the file name\n",
    "engine.save_to_file(extracted_text, output_file)  # Replace 'extracted_text' with your text variable\n",
    "\n",
    "# Run the engine to complete the file writing\n",
    "engine.runAndWait()\n",
    "\n",
    "print(f\"Audio saved as '{output_file}' using pyttsx3.\")\n"
   ]
  }
 ],
 "metadata": {
  "kernelspec": {
   "display_name": "Python 3 (ipykernel)",
   "language": "python",
   "name": "python3"
  },
  "language_info": {
   "codemirror_mode": {
    "name": "ipython",
    "version": 3
   },
   "file_extension": ".py",
   "mimetype": "text/x-python",
   "name": "python",
   "nbconvert_exporter": "python",
   "pygments_lexer": "ipython3",
   "version": "3.12.0"
  }
 },
 "nbformat": 4,
 "nbformat_minor": 4
}
