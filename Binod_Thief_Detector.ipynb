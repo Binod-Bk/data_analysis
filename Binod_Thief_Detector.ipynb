{
 "cells": [
  {
   "cell_type": "markdown",
   "metadata": {},
   "source": [
    "# Thief Detector\n",
    "## This task tests your Image Processing skills to build a motion detection algorithm that alarms you when you have an unwanted visitor in your home."
   ]
  },
  {
   "cell_type": "markdown",
   "metadata": {},
   "source": [
    "## Steps\n",
    "- 1. Get the live video feed from your webcam\n",
    "- 2. Fix a scene (the place you want to monitor) and store it as a reference background image\n",
    "    - Store the first frame as the reference background frame\n",
    "- 3. For every frame, check if there is any unwanted object inside the scene you are monitoring\n",
    "    - Use **Background Subtraction** concept (**cv2.absdiff( )**)\n",
    "        - Subtract the current frame from the reference background image(frame) to see the changes in the scene\n",
    "        - If there is enormous amount of pixels distrubed in the subtraction result image\n",
    "            - unwanted visitor (place is unsafe --> alarm the authorities)\n",
    "        - If there is no enormous amount of pixels distrubed in the subtraction result image\n",
    "            - no unwanted visitor (place is safe)\n",
    "- 4. Output the text **\"UNSAFE\"** in **red** color on the top right of the frame when there is an intruder in the scene.\n",
    "- 5. Save the live feed\n",
    "- 6. Submit the (.ipynb) file"
   ]
  },
  {
   "cell_type": "markdown",
   "metadata": {},
   "source": [
    "## Get live video feed from webcam [10 points]"
   ]
  },
  {
   "cell_type": "code",
   "execution_count": 1,
   "metadata": {},
   "outputs": [
    {
     "name": "stdout",
     "output_type": "stream",
     "text": [
      "Press 'q' to exit the video feed.\n"
     ]
    }
   ],
   "source": [
    "import cv2\n",
    "\n",
    "\n",
    "cap = cv2.VideoCapture(0)  \n",
    "\n",
    "print(\"Press 'q' to exit the video feed.\")\n",
    "\n",
    "while True:\n",
    "    \n",
    "    ret, frame = cap.read()\n",
    "    \n",
    "    if not ret:\n",
    "        print(\"Failed to grab frame. Exiting...\")\n",
    "        break\n",
    "\n",
    "   \n",
    "    cv2.imshow('Live Video Feed', frame)\n",
    "    \n",
    "    \n",
    "    if cv2.waitKey(1) & 0xFF == ord('q'):\n",
    "        break\n",
    "\n",
    "\n",
    "cap.release()\n",
    "cv2.destroyAllWindows()\n"
   ]
  },
  {
   "cell_type": "markdown",
   "metadata": {},
   "source": [
    "## Read first frame, convert to Grayscale and store it as reference background image [10 points]"
   ]
  },
  {
   "cell_type": "code",
   "execution_count": 2,
   "metadata": {},
   "outputs": [
    {
     "name": "stdout",
     "output_type": "stream",
     "text": [
      "Reference background image captured.\n"
     ]
    }
   ],
   "source": [
    "\n",
    "import cv2\n",
    "\n",
    "\n",
    "cap = cv2.VideoCapture(0)  \n",
    "\n",
    "\n",
    "ret, first_frame = cap.read()\n",
    "\n",
    "if ret:\n",
    "    \n",
    "    reference_background = cv2.cvtColor(first_frame, cv2.COLOR_BGR2GRAY)\n",
    "    print(\"Reference background image captured.\")\n",
    "else:\n",
    "    print(\"Failed to capture the first frame.\")\n",
    "\n",
    "\n",
    "cap.release()\n",
    "\n",
    "\n",
    "cv2.imshow('Reference Background', reference_background)\n",
    "cv2.waitKey(0)  # Wait for a key press\n",
    "cv2.destroyAllWindows()\n"
   ]
  },
  {
   "cell_type": "markdown",
   "metadata": {},
   "source": [
    "## Compute Absolute Difference between Current and First frame [20 points]"
   ]
  },
  {
   "cell_type": "code",
   "execution_count": 3,
   "metadata": {},
   "outputs": [
    {
     "name": "stdout",
     "output_type": "stream",
     "text": [
      "Reference background image captured.\n",
      "Press 'q' to exit the video feed.\n"
     ]
    }
   ],
   "source": [
    "\n",
    "import cv2\n",
    "\n",
    "\n",
    "cap = cv2.VideoCapture(0)  \n",
    "\n",
    "\n",
    "ret, first_frame = cap.read()\n",
    "\n",
    "if ret:\n",
    "    \n",
    "    reference_background = cv2.cvtColor(first_frame, cv2.COLOR_BGR2GRAY)\n",
    "    print(\"Reference background image captured.\")\n",
    "else:\n",
    "    print(\"Failed to capture the first frame.\")\n",
    "    cap.release()\n",
    "    exit()\n",
    "\n",
    "print(\"Press 'q' to exit the video feed.\")\n",
    "\n",
    "while True:\n",
    "    \n",
    "    ret, current_frame = cap.read()\n",
    "    \n",
    "    if not ret:\n",
    "        print(\"Failed to grab frame. Exiting...\")\n",
    "        break\n",
    "\n",
    "    \n",
    "    gray_current_frame = cv2.cvtColor(current_frame, cv2.COLOR_BGR2GRAY)\n",
    "    \n",
    "    \n",
    "    abs_diff = cv2.absdiff(reference_background, gray_current_frame)\n",
    "    \n",
    "    \n",
    "    cv2.imshow('Absolute Difference', abs_diff)\n",
    "    \n",
    "    \n",
    "    if cv2.waitKey(1) & 0xFF == ord('q'):\n",
    "        break\n",
    "\n",
    "\n",
    "cap.release()\n",
    "cv2.destroyAllWindows()\n"
   ]
  },
  {
   "cell_type": "markdown",
   "metadata": {},
   "source": [
    "## Apply threshold [5 points]"
   ]
  },
  {
   "cell_type": "code",
   "execution_count": 4,
   "metadata": {},
   "outputs": [
    {
     "name": "stdout",
     "output_type": "stream",
     "text": [
      "Reference background image captured.\n",
      "Press 'q' to exit the video feed.\n"
     ]
    }
   ],
   "source": [
    "# Import necessary libraries\n",
    "import cv2\n",
    "\n",
    "# Start capturing video from webcam\n",
    "cap = cv2.VideoCapture(0)  # 0 is the default webcam\n",
    "\n",
    "# Read the first frame and store as reference background\n",
    "ret, first_frame = cap.read()\n",
    "\n",
    "if ret:\n",
    "    # Convert the first frame to grayscale\n",
    "    reference_background = cv2.cvtColor(first_frame, cv2.COLOR_BGR2GRAY)\n",
    "    print(\"Reference background image captured.\")\n",
    "else:\n",
    "    print(\"Failed to capture the first frame.\")\n",
    "    cap.release()\n",
    "    exit()\n",
    "\n",
    "print(\"Press 'q' to exit the video feed.\")\n",
    "\n",
    "while True:\n",
    "    # Capture the current frame\n",
    "    ret, current_frame = cap.read()\n",
    "    \n",
    "    if not ret:\n",
    "        print(\"Failed to grab frame. Exiting...\")\n",
    "        break\n",
    "\n",
    "    # Convert the current frame to grayscale\n",
    "    gray_current_frame = cv2.cvtColor(current_frame, cv2.COLOR_BGR2GRAY)\n",
    "    \n",
    "    # Compute the absolute difference between current frame and reference background\n",
    "    abs_diff = cv2.absdiff(reference_background, gray_current_frame)\n",
    "    \n",
    "    # Apply a binary threshold to the absolute difference\n",
    "    _, thresholded = cv2.threshold(abs_diff, 30, 255, cv2.THRESH_BINARY)\n",
    "    \n",
    "    # Display the thresholded binary image\n",
    "    cv2.imshow('Thresholded Motion', thresholded)\n",
    "    \n",
    "    # Exit the video feed when 'q' is pressed\n",
    "    if cv2.waitKey(1) & 0xFF == ord('q'):\n",
    "        break\n",
    "\n",
    "# Release the webcam and close all OpenCV windows\n",
    "cap.release()\n",
    "cv2.destroyAllWindows()\n"
   ]
  },
  {
   "cell_type": "markdown",
   "metadata": {},
   "source": [
    "## Find contours [10 points]"
   ]
  },
  {
   "cell_type": "code",
   "execution_count": 5,
   "metadata": {},
   "outputs": [
    {
     "name": "stdout",
     "output_type": "stream",
     "text": [
      "Reference background image captured.\n",
      "Press 'q' to exit the video feed.\n"
     ]
    }
   ],
   "source": [
    "# Import necessary libraries\n",
    "import cv2\n",
    "\n",
    "# Start capturing video from webcam\n",
    "cap = cv2.VideoCapture(0)  # 0 is the default webcam\n",
    "\n",
    "# Read the first frame and store as reference background\n",
    "ret, first_frame = cap.read()\n",
    "\n",
    "if ret:\n",
    "    # Convert the first frame to grayscale\n",
    "    reference_background = cv2.cvtColor(first_frame, cv2.COLOR_BGR2GRAY)\n",
    "    print(\"Reference background image captured.\")\n",
    "else:\n",
    "    print(\"Failed to capture the first frame.\")\n",
    "    cap.release()\n",
    "    exit()\n",
    "\n",
    "print(\"Press 'q' to exit the video feed.\")\n",
    "\n",
    "while True:\n",
    "    # Capture the current frame\n",
    "    ret, current_frame = cap.read()\n",
    "    \n",
    "    if not ret:\n",
    "        print(\"Failed to grab frame. Exiting...\")\n",
    "        break\n",
    "\n",
    "    # Convert the current frame to grayscale\n",
    "    gray_current_frame = cv2.cvtColor(current_frame, cv2.COLOR_BGR2GRAY)\n",
    "    \n",
    "    # Compute the absolute difference between current frame and reference background\n",
    "    abs_diff = cv2.absdiff(reference_background, gray_current_frame)\n",
    "    \n",
    "    # Apply a binary threshold to the absolute difference\n",
    "    _, thresholded = cv2.threshold(abs_diff, 30, 255, cv2.THRESH_BINARY)\n",
    "    \n",
    "    # Find contours in the thresholded binary image\n",
    "    contours, _ = cv2.findContours(thresholded, cv2.RETR_EXTERNAL, cv2.CHAIN_APPROX_SIMPLE)\n",
    "    \n",
    "    # Draw contours on the current frame\n",
    "    for contour in contours:\n",
    "        if cv2.contourArea(contour) > 500:  # Ignore small contours (noise)\n",
    "            # Draw a rectangle around the contour\n",
    "            x, y, w, h = cv2.boundingRect(contour)\n",
    "            cv2.rectangle(current_frame, (x, y), (x + w, y + h), (0, 255, 0), 2)\n",
    "    \n",
    "    # Display the current frame with contours\n",
    "    cv2.imshow('Motion Detection with Contours', current_frame)\n",
    "    \n",
    "    # Exit the video feed when 'q' is pressed\n",
    "    if cv2.waitKey(1) & 0xFF == ord('q'):\n",
    "        break\n",
    "\n",
    "# Release the webcam and close all OpenCV windows\n",
    "cap.release()\n",
    "cv2.destroyAllWindows()\n"
   ]
  },
  {
   "cell_type": "markdown",
   "metadata": {},
   "source": [
    "## Check if contourArea is large and draw rectangle around the object, output \"UNSAFE\" text in red color [30 points]"
   ]
  },
  {
   "cell_type": "code",
   "execution_count": 6,
   "metadata": {},
   "outputs": [
    {
     "name": "stdout",
     "output_type": "stream",
     "text": [
      "Reference background image captured.\n",
      "Press 'q' to exit the video feed.\n"
     ]
    }
   ],
   "source": [
    "# Import necessary libraries\n",
    "import cv2\n",
    "\n",
    "# Start capturing video from webcam\n",
    "cap = cv2.VideoCapture(0)  # 0 is the default webcam\n",
    "\n",
    "# Read the first frame and store as reference background\n",
    "ret, first_frame = cap.read()\n",
    "\n",
    "if ret:\n",
    "    # Convert the first frame to grayscale\n",
    "    reference_background = cv2.cvtColor(first_frame, cv2.COLOR_BGR2GRAY)\n",
    "    print(\"Reference background image captured.\")\n",
    "else:\n",
    "    print(\"Failed to capture the first frame.\")\n",
    "    cap.release()\n",
    "    exit()\n",
    "\n",
    "print(\"Press 'q' to exit the video feed.\")\n",
    "\n",
    "while True:\n",
    "    # Capture the current frame\n",
    "    ret, current_frame = cap.read()\n",
    "    \n",
    "    if not ret:\n",
    "        print(\"Failed to grab frame. Exiting...\")\n",
    "        break\n",
    "\n",
    "    # Convert the current frame to grayscale\n",
    "    gray_current_frame = cv2.cvtColor(current_frame, cv2.COLOR_BGR2GRAY)\n",
    "    \n",
    "    # Compute the absolute difference between current frame and reference background\n",
    "    abs_diff = cv2.absdiff(reference_background, gray_current_frame)\n",
    "    \n",
    "    # Apply a binary threshold to the absolute difference\n",
    "    _, thresholded = cv2.threshold(abs_diff, 30, 255, cv2.THRESH_BINARY)\n",
    "    \n",
    "    # Find contours in the thresholded binary image\n",
    "    contours, _ = cv2.findContours(thresholded, cv2.RETR_EXTERNAL, cv2.CHAIN_APPROX_SIMPLE)\n",
    "    \n",
    "    # Draw contours and check for large motion\n",
    "    for contour in contours:\n",
    "        if cv2.contourArea(contour) > 1000:  # Threshold for detecting significant motion\n",
    "            # Get the bounding box of the contour\n",
    "            x, y, w, h = cv2.boundingRect(contour)\n",
    "            \n",
    "            # Draw a rectangle around the contour\n",
    "            cv2.rectangle(current_frame, (x, y), (x + w, y + h), (0, 0, 255), 2)  # Red rectangle\n",
    "            \n",
    "            # Add the \"UNSAFE\" text\n",
    "            cv2.putText(current_frame, \"UNSAFE\", (x, y - 10), cv2.FONT_HERSHEY_SIMPLEX, 0.8, (0, 0, 255), 2)\n",
    "    \n",
    "    # Display the current frame with annotations\n",
    "    cv2.imshow('Motion Detection - UNSAFE Alert', current_frame)\n",
    "    \n",
    "    # Exit the video feed when 'q' is pressed\n",
    "    if cv2.waitKey(1) & 0xFF == ord('q'):\n",
    "        break\n",
    "\n",
    "# Release the webcam and close all OpenCV windows\n",
    "cap.release()\n",
    "cv2.destroyAllWindows()\n"
   ]
  },
  {
   "cell_type": "markdown",
   "metadata": {},
   "source": [
    "## Display images [10 points]"
   ]
  },
  {
   "cell_type": "code",
   "execution_count": 7,
   "metadata": {},
   "outputs": [
    {
     "name": "stdout",
     "output_type": "stream",
     "text": [
      "Reference background image captured.\n",
      "Press 'q' to exit the video feed.\n"
     ]
    }
   ],
   "source": [
    "# Import necessary libraries\n",
    "import cv2\n",
    "\n",
    "# Start capturing video from webcam\n",
    "cap = cv2.VideoCapture(0)  # 0 is the default webcam\n",
    "\n",
    "# Read the first frame and store as reference background\n",
    "ret, first_frame = cap.read()\n",
    "\n",
    "if ret:\n",
    "    # Convert the first frame to grayscale\n",
    "    reference_background = cv2.cvtColor(first_frame, cv2.COLOR_BGR2GRAY)\n",
    "    print(\"Reference background image captured.\")\n",
    "else:\n",
    "    print(\"Failed to capture the first frame.\")\n",
    "    cap.release()\n",
    "    exit()\n",
    "\n",
    "print(\"Press 'q' to exit the video feed.\")\n",
    "\n",
    "while True:\n",
    "    # Capture the current frame\n",
    "    ret, current_frame = cap.read()\n",
    "    \n",
    "    if not ret:\n",
    "        print(\"Failed to grab frame. Exiting...\")\n",
    "        break\n",
    "\n",
    "    # Convert the current frame to grayscale\n",
    "    gray_current_frame = cv2.cvtColor(current_frame, cv2.COLOR_BGR2GRAY)\n",
    "    \n",
    "    # Compute the absolute difference between current frame and reference background\n",
    "    abs_diff = cv2.absdiff(reference_background, gray_current_frame)\n",
    "    \n",
    "    # Apply a binary threshold to the absolute difference\n",
    "    _, thresholded = cv2.threshold(abs_diff, 30, 255, cv2.THRESH_BINARY)\n",
    "    \n",
    "    # Find contours in the thresholded binary image\n",
    "    contours, _ = cv2.findContours(thresholded, cv2.RETR_EXTERNAL, cv2.CHAIN_APPROX_SIMPLE)\n",
    "    \n",
    "    # Draw contours and check for large motion\n",
    "    for contour in contours:\n",
    "        if cv2.contourArea(contour) > 1000:  # Threshold for detecting significant motion\n",
    "            # Get the bounding box of the contour\n",
    "            x, y, w, h = cv2.boundingRect(contour)\n",
    "            \n",
    "            # Draw a rectangle around the contour\n",
    "            cv2.rectangle(current_frame, (x, y), (x + w, y + h), (0, 0, 255), 2)  # Red rectangle\n",
    "            \n",
    "            # Add the \"UNSAFE\" text\n",
    "            cv2.putText(current_frame, \"UNSAFE\", (x, y - 10), cv2.FONT_HERSHEY_SIMPLEX, 0.8, (0, 0, 255), 2)\n",
    "    \n",
    "    # Display the reference background (grayscale)\n",
    "    cv2.imshow('Reference Background (Grayscale)', reference_background)\n",
    "    \n",
    "    # Display the thresholded binary image\n",
    "    cv2.imshow('Thresholded Binary Image', thresholded)\n",
    "    \n",
    "    # Display the final frame with annotations\n",
    "    cv2.imshow('Motion Detection - UNSAFE Alert', current_frame)\n",
    "    \n",
    "    # Exit the video feed when 'q' is pressed\n",
    "    if cv2.waitKey(1) & 0xFF == ord('q'):\n",
    "        break\n",
    "\n",
    "# Release the webcam and close all OpenCV windows\n",
    "cap.release()\n",
    "cv2.destroyAllWindows()\n"
   ]
  },
  {
   "cell_type": "markdown",
   "metadata": {},
   "source": [
    "## Release objects [5 points]"
   ]
  },
  {
   "cell_type": "code",
   "execution_count": 8,
   "metadata": {},
   "outputs": [
    {
     "name": "stdout",
     "output_type": "stream",
     "text": [
      "Resources released. Exiting program.\n"
     ]
    }
   ],
   "source": [
    "# Release the webcam and close all OpenCV windows\n",
    "cap.release()  # Release the video capture object\n",
    "cv2.destroyAllWindows()  # Close all OpenCV windows\n",
    "print(\"Resources released. Exiting program.\")\n"
   ]
  }
 ],
 "metadata": {
  "kernelspec": {
   "display_name": "Python 3 (ipykernel)",
   "language": "python",
   "name": "python3"
  },
  "language_info": {
   "codemirror_mode": {
    "name": "ipython",
    "version": 3
   },
   "file_extension": ".py",
   "mimetype": "text/x-python",
   "name": "python",
   "nbconvert_exporter": "python",
   "pygments_lexer": "ipython3",
   "version": "3.12.0"
  }
 },
 "nbformat": 4,
 "nbformat_minor": 4
}
